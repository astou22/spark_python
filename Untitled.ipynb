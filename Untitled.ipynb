{
  "nbformat": 4,
  "nbformat_minor": 0,
  "metadata": {
    "colab": {
      "name": "Untitled",
      "provenance": [],
      "collapsed_sections": [],
      "mount_file_id": "11WOwt63gLKvrrxyPED0bn70MayYFa7lp",
      "authorship_tag": "ABX9TyNa6+LBa/Xsb6sHvoQmFsoj",
      "include_colab_link": true
    },
    "kernelspec": {
      "name": "python3",
      "display_name": "Python 3"
    },
    "language_info": {
      "name": "python"
    }
  },
  "cells": [
    {
      "cell_type": "markdown",
      "metadata": {
        "id": "view-in-github",
        "colab_type": "text"
      },
      "source": [
        "<a href=\"https://colab.research.google.com/github/astou22/spark_python/blob/main/Untitled.ipynb\" target=\"_parent\"><img src=\"https://colab.research.google.com/assets/colab-badge.svg\" alt=\"Open In Colab\"/></a>"
      ]
    },
    {
      "cell_type": "code",
      "metadata": {
        "colab": {
          "base_uri": "https://localhost:8080/"
        },
        "id": "0OCGD4vnfJxT",
        "outputId": "9134eb43-06b9-4536-9970-12e6389c1b01"
      },
      "source": [
        "pip install spark"
      ],
      "execution_count": null,
      "outputs": [
        {
          "output_type": "stream",
          "name": "stdout",
          "text": [
            "Collecting spark\n",
            "  Downloading spark-0.2.1.tar.gz (41 kB)\n",
            "\u001b[?25l\r\u001b[K     |████████                        | 10 kB 25.5 MB/s eta 0:00:01\r\u001b[K     |████████████████                | 20 kB 33.1 MB/s eta 0:00:01\r\u001b[K     |████████████████████████        | 30 kB 14.6 MB/s eta 0:00:01\r\u001b[K     |████████████████████████████████| 40 kB 10.8 MB/s eta 0:00:01\r\u001b[K     |████████████████████████████████| 41 kB 66 kB/s \n",
            "\u001b[?25hBuilding wheels for collected packages: spark\n",
            "  Building wheel for spark (setup.py) ... \u001b[?25l\u001b[?25hdone\n",
            "  Created wheel for spark: filename=spark-0.2.1-py3-none-any.whl size=58761 sha256=5b97b11f930e818cbeecae50cd94b3619d717078b1d106e191828faa9367af52\n",
            "  Stored in directory: /root/.cache/pip/wheels/4e/0e/f1/164619f9920fb447d294afaae11a7715bd442ded7225953d72\n",
            "Successfully built spark\n",
            "Installing collected packages: spark\n",
            "Successfully installed spark-0.2.1\n"
          ]
        }
      ]
    },
    {
      "cell_type": "code",
      "metadata": {
        "id": "9huzCVwJfnNB"
      },
      "source": [
        "import sys\n",
        "from pyspark import SparkContext\n",
        "\n",
        "sc = SparkContext()"
      ],
      "execution_count": null,
      "outputs": []
    },
    {
      "cell_type": "code",
      "metadata": {
        "id": "DySl-zerdlit"
      },
      "source": [
        "from pyspark.sql import Row\n",
        "from pyspark.sql.session import SparkSession\n",
        "\n",
        "spark = SparkSession(sc)\n",
        "def load_dataframe(path):\n",
        "    rdd = sc.textFile(path)\\\n",
        "        .map(lambda line: line.split())\\\n",
        "        .map(lambda words: Row(label=words[0], words=words[1:]))\n",
        "    return spark.createDataFrame(rdd)\n",
        "\n",
        "train_data = load_dataframe(\"20ng-train-all-terms.txt\")\n",
        "test_data = load_dataframe(\"20ng-test-all-terms.txt\")"
      ],
      "execution_count": null,
      "outputs": []
    },
    {
      "cell_type": "code",
      "metadata": {
        "id": "0goqI7pIggOQ"
      },
      "source": [
        "from pyspark.ml.feature import CountVectorizer\n",
        "vectorizer = CountVectorizer(inputCol=\"words\", outputCol=\"bag_of_words\")"
      ],
      "execution_count": null,
      "outputs": []
    },
    {
      "cell_type": "code",
      "metadata": {
        "id": "xipPXX1bgspx"
      },
      "source": [
        "vectorizer_transformer = vectorizer.fit(train_data)"
      ],
      "execution_count": null,
      "outputs": []
    },
    {
      "cell_type": "code",
      "metadata": {
        "id": "hs0Llr_wgnJD"
      },
      "source": [
        "train_bag_of_words = vectorizer_transformer.transform(train_data)\n",
        "test_bag_of_words = vectorizer_transformer.transform(test_data)"
      ],
      "execution_count": null,
      "outputs": []
    },
    {
      "cell_type": "code",
      "metadata": {
        "colab": {
          "base_uri": "https://localhost:8080/"
        },
        "id": "YmVBDLsfg4Yv",
        "outputId": "987a4456-1e48-4146-ccf0-ada38bbc3900"
      },
      "source": [
        "train_data.select(\"label\").distinct().sort(\"label\").show(truncate=False)"
      ],
      "execution_count": null,
      "outputs": [
        {
          "output_type": "stream",
          "name": "stdout",
          "text": [
            "+------------------------+\n",
            "|label                   |\n",
            "+------------------------+\n",
            "|alt.atheism             |\n",
            "|comp.graphics           |\n",
            "|comp.os.ms-windows.misc |\n",
            "|comp.sys.ibm.pc.hardware|\n",
            "|comp.sys.mac.hardware   |\n",
            "|comp.windows.x          |\n",
            "|misc.forsale            |\n",
            "|rec.autos               |\n",
            "|rec.motorcycles         |\n",
            "|rec.sport.baseball      |\n",
            "|rec.sport.hockey        |\n",
            "|sci.crypt               |\n",
            "|sci.electronics         |\n",
            "|sci.med                 |\n",
            "|sci.space               |\n",
            "|soc.religion.christian  |\n",
            "|talk.politics.guns      |\n",
            "|talk.politics.mideast   |\n",
            "|talk.politics.misc      |\n",
            "|talk.religion.misc      |\n",
            "+------------------------+\n",
            "\n"
          ]
        }
      ]
    }
  ]
}